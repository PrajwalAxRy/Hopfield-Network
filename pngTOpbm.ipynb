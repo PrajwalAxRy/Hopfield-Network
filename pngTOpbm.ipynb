{
 "cells": [
  {
   "cell_type": "code",
   "execution_count": 2,
   "id": "92da6e83",
   "metadata": {},
   "outputs": [
    {
     "name": "stdout",
     "output_type": "stream",
     "text": [
      "Conversion of pics\\Screenshot 2023-10-04 000513.png to PBM completed.\n",
      "Conversion of pics\\Screenshot 2023-10-04 000548.png to PBM completed.\n",
      "Conversion of pics\\Screenshot 2023-10-04 000624.png to PBM completed.\n",
      "Conversion of pics\\Screenshot 2023-10-04 000636.png to PBM completed.\n",
      "Conversion of pics\\Screenshot 2023-10-04 000653.png to PBM completed.\n",
      "Conversion of pics\\Screenshot 2023-10-04 000704.png to PBM completed.\n",
      "Conversion of pics\\Screenshot 2023-10-04 000717.png to PBM completed.\n",
      "Conversion of pics\\Screenshot 2023-10-04 000739.png to PBM completed.\n",
      "Conversion of pics\\Screenshot 2023-10-04 000805.png to PBM completed.\n",
      "Conversion of pics\\Screenshot 2023-10-04 000926.png to PBM completed.\n",
      "Conversion of pics\\Screenshot 2023-10-04 000954.png to PBM completed.\n",
      "Conversion of pics\\Screenshot 2023-10-04 000ASDSA653.png to PBM completed.\n",
      "Conversion of pics\\Screenshot 2023-10-04 001025.png to PBM completed.\n",
      "Conversion of pics\\Screenshot 2023-10-04 001058.png to PBM completed.\n",
      "Conversion of pics\\Screenshot 2023-10-04 001135.png to PBM completed.\n",
      "Conversion of pics\\Screenshot 2023-10-04 001158.png to PBM completed.\n",
      "Conversion of pics\\Screenshot 2023-10-04 001219.png to PBM completed.\n",
      "Conversion of pics\\Screenshot 2023-10-04 001237.png to PBM completed.\n",
      "Conversion of pics\\Screenshot 2023-10-04 001248.png to PBM completed.\n",
      "Conversion of pics\\Screenshot 2023-10-04 001306.png to PBM completed.\n",
      "Conversion of pics\\Screenshot 2023-10-04 001342.png to PBM completed.\n",
      "Conversion of pics\\Screenshot 2023-10-04 001403.png to PBM completed.\n",
      "Conversion of pics\\Screenshot 2023-10-04 001503.png to PBM completed.\n",
      "Conversion of pics\\Screenshot 2023-10-04 001522.png to PBM completed.\n",
      "Conversion of pics\\Screenshot 2023-A10-04 000513.png to PBM completed.\n",
      "All conversions finished.\n"
     ]
    },
    {
     "name": "stderr",
     "output_type": "stream",
     "text": [
      "C:\\Users\\prajw\\AppData\\Local\\Temp\\ipykernel_27660\\1966763586.py:20: DeprecationWarning: ANTIALIAS is deprecated and will be removed in Pillow 10 (2023-07-01). Use LANCZOS or Resampling.LANCZOS instead.\n",
      "  img = img.resize(target_size, Image.ANTIALIAS)  # Resize to 60x60 pixels.\n"
     ]
    }
   ],
   "source": [
    "from pathlib import Path\n",
    "from PIL import Image\n",
    "\n",
    "ASCII_BITS = '0', '1'\n",
    "\n",
    "# Specify the directory containing the PNG images (input) and the output directory for PBM files.\n",
    "input_directory = Path('./pics')  # Assuming \"pics\" is the folder containing PNGs.\n",
    "output_directory = Path('./workpics')  # Specify the output directory.\n",
    "\n",
    "# Create the output directory if it doesn't exist.\n",
    "output_directory.mkdir(exist_ok=True)\n",
    "\n",
    "# Specify the target size for resizing.\n",
    "target_size = (60, 60)\n",
    "\n",
    "# Iterate through all PNG files in the input directory.\n",
    "for imagepath in input_directory.glob('*.png'):\n",
    "    # Open and resize the image to the target size.\n",
    "    img = Image.open(imagepath).convert('1')  # Convert image to bitmap.\n",
    "    img = img.resize(target_size, Image.ANTIALIAS)  # Resize to 60x60 pixels.\n",
    "    width, height = img.size\n",
    "\n",
    "    # Convert image data to a list of ASCII bits.\n",
    "    data = [ASCII_BITS[bool(val)] for val in img.getdata()]\n",
    "    # Convert that to a 2D list (list of character lists)\n",
    "    data = [data[offset: offset+width] for offset in range(0, width*height, width)]\n",
    "\n",
    "    # Create an output PBM file path in the output directory.\n",
    "    output_pbm_path = output_directory / imagepath.with_suffix('.pbm').name\n",
    "\n",
    "    with open(output_pbm_path, 'w') as file:\n",
    "        file.write('P1\\n')\n",
    "        file.write(f'# Conversion of {imagepath} to PBM format\\n')\n",
    "        file.write(f'{width} {height}\\n')\n",
    "        for row in data:\n",
    "            file.write(' '.join(row) + '\\n')\n",
    "\n",
    "    print(f'Conversion of {imagepath} to PBM completed.')\n",
    "\n",
    "print('All conversions finished.')\n"
   ]
  },
  {
   "cell_type": "code",
   "execution_count": null,
   "id": "910168fb",
   "metadata": {},
   "outputs": [],
   "source": []
  }
 ],
 "metadata": {
  "kernelspec": {
   "display_name": "Python 3 (ipykernel)",
   "language": "python",
   "name": "python3"
  },
  "language_info": {
   "codemirror_mode": {
    "name": "ipython",
    "version": 3
   },
   "file_extension": ".py",
   "mimetype": "text/x-python",
   "name": "python",
   "nbconvert_exporter": "python",
   "pygments_lexer": "ipython3",
   "version": "3.11.4"
  }
 },
 "nbformat": 4,
 "nbformat_minor": 5
}
