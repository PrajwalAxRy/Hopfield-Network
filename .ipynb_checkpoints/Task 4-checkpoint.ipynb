{
 "cells": [
  {
   "cell_type": "code",
   "execution_count": 1,
   "id": "39825316",
   "metadata": {},
   "outputs": [],
   "source": [
    "import numpy as np\n",
    "import pandas as pd\n",
    "from PIL import Image\n",
    "import os\n",
    "import random\n",
    "import matplotlib.pyplot as plt\n",
    "import plotly.express as px"
   ]
  },
  {
   "cell_type": "code",
   "execution_count": 88,
   "id": "0eeb6ec8",
   "metadata": {},
   "outputs": [],
   "source": [
    "def crop_memory(memory, image_size, box_size, fill_value=0):\n",
    "    memory = memory.reshape(image_size)\n",
    "    cropped_memory = np.full(image_size, fill_value)\n",
    "    start_index = (image_size[0] - box_size[0]) // 2\n",
    "    end_index = start_index + box_size[0]\n",
    "    cropped_memory[start_index:end_index, start_index:end_index] = \\\n",
    "        memory[start_index:end_index, start_index:end_index]\n",
    "    return cropped_memory.flatten()"
   ]
  },
  {
   "cell_type": "code",
   "execution_count": 89,
   "id": "a653e9a8",
   "metadata": {},
   "outputs": [],
   "source": [
    "def initialize_weight_matrix(neurons_num, training_data):\n",
    "    # Initialize the weight matrix with zeros\n",
    "    weight_matrix = np.zeros((neurons_num, neurons_num))\n",
    "\n",
    "    # Initialize the weight matrix using Hebbian Learning\n",
    "    for pattern in training_data:\n",
    "        pattern = pattern.reshape((-1, 1))\n",
    "        weight_matrix = weight_matrix + np.dot(pattern, pattern.T)\n",
    "\n",
    "    weight_matrix /= len(training_data)\n",
    "\n",
    "    return weight_matrix"
   ]
  },
  {
   "cell_type": "code",
   "execution_count": 90,
   "id": "8fc80d73",
   "metadata": {},
   "outputs": [],
   "source": [
    "def load_training_data(folder_path):\n",
    "    # This is an empty list which we will use to store the training patterns (PBM images as binary vectors)\n",
    "    training_data = []\n",
    "\n",
    "    # Iterating over all the files in our workpics folder\n",
    "    for pbm_file in os.listdir(folder_path):\n",
    "        if pbm_file.endswith(\".pbm\"):\n",
    "            # Check if the file extension is correct\n",
    "            file_path = os.path.join(folder_path, pbm_file)\n",
    "\n",
    "            # Opening and adding it to the training dataset list\n",
    "            with Image.open(file_path) as img:\n",
    "                img = img.resize((60, 60), Image.LANCZOS)\n",
    "                img = img.convert('L')\n",
    "\n",
    "                binary_vector = np.array(img).flatten()\n",
    "\n",
    "                # To make the image into \"light\" and \"dark\" pattern. (Threshold = 128)\n",
    "                binary_vector[binary_vector < 128] = 0\n",
    "                binary_vector[binary_vector >= 128] = 1\n",
    "\n",
    "                # Finally append the vector to the training data set.\n",
    "                training_data.append(binary_vector)\n",
    "\n",
    "    return training_data"
   ]
  },
  {
   "cell_type": "code",
   "execution_count": 91,
   "id": "b20dffe8",
   "metadata": {},
   "outputs": [],
   "source": [
    "def save_network_state_as_pbm(state, file_path, image_size):\n",
    "    binary_state = state.astype(np.uint8) * 255\n",
    "    binary_state = binary_state.reshape(image_size)\n",
    "    img = Image.fromarray(binary_state, mode='L')\n",
    "    img.save(file_path)"
   ]
  },
  {
   "cell_type": "code",
   "execution_count": 92,
   "id": "c8018fd7",
   "metadata": {},
   "outputs": [],
   "source": [
    "def corrupt_initial_state(initial_state, corruption_prob):\n",
    "    corrupted_state = initial_state.copy()\n",
    "    for i in range(len(initial_state)):\n",
    "        if random.random() < corruption_prob:\n",
    "            corrupted_state[i] = 1 - corrupted_state[i]\n",
    "    return corrupted_state"
   ]
  },
  {
   "cell_type": "code",
   "execution_count": 93,
   "id": "6f5d1b6e",
   "metadata": {},
   "outputs": [],
   "source": [
    "def threshold_function(activation):\n",
    "    # Apply a step function to threshold the activation\n",
    "    return 1 if activation >= 0 else 0\n"
   ]
  },
  {
   "cell_type": "code",
   "execution_count": 94,
   "id": "b26823e1",
   "metadata": {},
   "outputs": [],
   "source": [
    "def sync_simulation(training_data, num_iterations, output_folder, p, save_interval=1):\n",
    "    neurons_num = training_data[0].shape[0]\n",
    "\n",
    "    # Initialize weight matrix (you need to implement this)\n",
    "    weight_matrix = initialize_weight_matrix(neurons_num, training_data)\n",
    "    \n",
    "    # Choose a random initial state\n",
    "    initial_state = random.choice(training_data).copy()\n",
    "    \n",
    "    # Corrupt the initial state with probability p (you need to implement this)\n",
    "    initial_state = corrupt_initial_state(initial_state, p)\n",
    "    \n",
    "    # Perform Hopfield Network updates and save states midway\n",
    "    for i in range(num_iterations):\n",
    "        activations = np.dot(weight_matrix, initial_state)\n",
    "        \n",
    "        # Apply your threshold function here\n",
    "        new_state = np.where(activations >= 0.5, 1, 0)\n",
    "        \n",
    "        # Save the current state as a PBM image at specified intervals\n",
    "        if i % 1 == 0:\n",
    "            output_path = os.path.join(output_folder, 'sync_states', f'state_{i}.pbm')\n",
    "            save_network_state_as_pbm(initial_state, output_path, (60, 60))\n",
    "        \n",
    "        # Update the state for the next iteration\n",
    "        initial_state = new_state\n",
    "\n",
    "    print(\"Synchronous Hopfield Network updates completed.\")"
   ]
  },
  {
   "cell_type": "code",
   "execution_count": 95,
   "id": "5c65afab",
   "metadata": {},
   "outputs": [],
   "source": [
    "def synchronous_simulation_cropped(training_data, num_iterations, output_folder):\n",
    "    neurons_num = training_data[0].shape[0]\n",
    "\n",
    "    # Initialize the weight matrix\n",
    "    weight_matrix = initialize_weight_matrix(neurons_num, training_data)\n",
    "\n",
    "    # Create an initial state for the Hopfield Network\n",
    "    initial_state = random.choice(training_data).copy()\n",
    "    \n",
    "    initial_state = crop_memory(initial_state, (60, 60), (40, 40), fill_value=0)\n",
    "\n",
    "    # Perform synchronous Hopfield Network updates with cropping and save states midway\n",
    "    for i in range(num_iterations):\n",
    "        neuron_index = random.randint(0, neurons_num - 1)\n",
    "        activation = np.dot(weight_matrix[neuron_index, :], initial_state)\n",
    "        new_state = 1 if activation >= 0.5 else 0\n",
    "\n",
    "        # Update the selected neuron's state\n",
    "        initial_state[neuron_index] = new_state\n",
    "\n",
    "        # Save the current state as a PBM image midway\n",
    "        if i % 500 == 0:\n",
    "            output_path = os.path.join(output_folder, 'sync_cropped', f'state_{i}.pbm')\n",
    "            save_network_state_as_pbm(initial_state, output_path, (60, 60))\n",
    "\n",
    "    print(\"Synchronous Hopfield Network updates with cropping completed.\")"
   ]
  },
  {
   "cell_type": "code",
   "execution_count": 96,
   "id": "e373b98c",
   "metadata": {},
   "outputs": [],
   "source": [
    "def async_simulation(training_data, num_iterations, output_folder, p):\n",
    "    neurons_num = training_data[0].shape[0]  #3600\n",
    "\n",
    "    weight_matrix = initialize_weight_matrix(neurons_num, training_data)\n",
    "    initial_state = random.choice(training_data).copy()\n",
    "    \n",
    "    ##corrupt\n",
    "    initial_state = corrupt_initial_state(initial_state, p)\n",
    "    \n",
    "    for i in range(num_iterations):\n",
    "        neuron_index = random.randint(0, neurons_num - 1)\n",
    "        activation = np.dot(weight_matrix[neuron_index, :], initial_state)\n",
    "        new_state = 1 if activation >= 0.5 else 0\n",
    "        \n",
    "        if i % 500 == 0:\n",
    "            output_path = os.path.join(output_folder, 'async_states',f'state_{i}.pbm')\n",
    "            save_network_state_as_pbm(initial_state, output_path, (60, 60))\n",
    "        \n",
    "        initial_state[neuron_index] = new_state\n",
    "        \n",
    "\n",
    "    print(\"Hopfield Network updates completed ASYNCRONOUSLY.\")"
   ]
  },
  {
   "cell_type": "code",
   "execution_count": 97,
   "id": "9dfc4686",
   "metadata": {},
   "outputs": [],
   "source": [
    "def asynchronous_simulation_cropped(training_data, num_iterations, output_folder):\n",
    "    neurons_num = training_data[0].shape[0]\n",
    "\n",
    "    # Initialize the weight matrix\n",
    "    weight_matrix = initialize_weight_matrix(neurons_num, training_data)\n",
    "    \n",
    "    initial_state = random.choice(training_data).copy()\n",
    "    \n",
    "    # Create an initial state for the Hopfield Network\n",
    "    initial_state = crop_memory(initial_state, (60, 60), (40, 40), fill_value=0)\n",
    "\n",
    "    # Perform asynchronous Hopfield Network updates with cropping and save states midway\n",
    "    for i in range(num_iterations):\n",
    "        neuron_index = random.randint(0, neurons_num - 1)\n",
    "        activation = np.dot(weight_matrix[neuron_index, :], initial_state)\n",
    "        new_state = 1 if activation >= 0.5 else 0\n",
    "        \n",
    "        # Save the current state as a PBM image midway\n",
    "        if i % 500 == 0:\n",
    "            output_path = os.path.join(output_folder, \"async_cropped\",f'state_{i}.pbm')\n",
    "            save_network_state_as_pbm(initial_state, output_path, (60, 60))\n",
    "        \n",
    "        # Update the selected neuron's state asynchronously\n",
    "        initial_state[neuron_index] = new_state\n",
    "\n",
    "    print(\"Asynchronous Hopfield Network updates with cropping completed.\")"
   ]
  },
  {
   "cell_type": "code",
   "execution_count": 98,
   "id": "592f2eaa",
   "metadata": {},
   "outputs": [],
   "source": [
    "# Path to the PBM pictures\n",
    "folderPath = \"workpics\"\n",
    "\n",
    "# Number of iterations for updating the network\n",
    "numIterations = 100\n",
    "\n",
    "#Corruption Prob\n",
    "p = 0.2\n",
    "\n",
    "# Create an output folder for saving the states\n",
    "outputFolder = \"network_states\"\n",
    "os.makedirs(outputFolder, exist_ok=True)\n",
    "os.makedirs(os.path.join(outputFolder, 'async_states'), exist_ok=True)\n",
    "os.makedirs(os.path.join(outputFolder, 'sync_states'), exist_ok=True)\n",
    "os.makedirs(os.path.join(outputFolder, 'sync_cropped'), exist_ok=True)\n",
    "os.makedirs(os.path.join(outputFolder, 'async_cropped'), exist_ok=True)"
   ]
  },
  {
   "cell_type": "code",
   "execution_count": 99,
   "id": "ec073242",
   "metadata": {},
   "outputs": [],
   "source": [
    "trainingData = load_training_data(folderPath)"
   ]
  },
  {
   "cell_type": "code",
   "execution_count": 100,
   "id": "2892e638",
   "metadata": {},
   "outputs": [
    {
     "name": "stdout",
     "output_type": "stream",
     "text": [
      "Synchronous Hopfield Network updates completed.\n",
      "Synchronous Hopfield Network updates with cropping completed.\n",
      "Asynchronous Hopfield Network updates with cropping completed.\n"
     ]
    }
   ],
   "source": [
    "sync_simulation(trainingData, numIterations, outputFolder, p)\n",
    "synchronous_simulation_cropped(trainingData, numIterations, outputFolder)\n",
    "asynchronous_simulation_cropped(trainingData, numIterations, outputFolder)"
   ]
  },
  {
   "cell_type": "code",
   "execution_count": 101,
   "id": "aedffa64",
   "metadata": {},
   "outputs": [
    {
     "name": "stdout",
     "output_type": "stream",
     "text": [
      "Hopfield Network updates completed ASYNCRONOUSLY.\n"
     ]
    }
   ],
   "source": [
    "async_simulation(trainingData, numIterations, outputFolder, p)"
   ]
  },
  {
   "cell_type": "code",
   "execution_count": 102,
   "id": "355cee66",
   "metadata": {},
   "outputs": [],
   "source": [
    "def display_image(i):\n",
    "    path = f\"./network_states/async_states/state_{i}.pbm\"\n",
    "    # Open the image file\n",
    "    img = Image.open(path)\n",
    "\n",
    "    # Display the image\n",
    "    plt.imshow(img)\n",
    "    plt.show()"
   ]
  },
  {
   "cell_type": "code",
   "execution_count": 103,
   "id": "7a604296",
   "metadata": {},
   "outputs": [
    {
     "data": {
      "image/png": "[encoded data removed]",
      "text/plain": [
       "<Figure size 640x480 with 1 Axes>"
      ]
     },
     "metadata": {},
     "output_type": "display_data"
    }
   ],
   "source": [
    "display_image(0)"
   ]
  },
  {
   "cell_type": "code",
   "execution_count": 104,
   "id": "f5b51d53",
   "metadata": {},
   "outputs": [
    {
     "data": {
      "image/png": "[encoded data removed]",
      "text/plain": [
       "<Figure size 640x480 with 1 Axes>"
      ]
     },
     "metadata": {},
     "output_type": "display_data"
    }
   ],
   "source": [
    "display_image(500)"
   ]
  },
  {
   "cell_type": "code",
   "execution_count": 105,
   "id": "70e0ce7a",
   "metadata": {},
   "outputs": [
    {
     "data": {
      "image/png": "[encoded data removed]",
      "text/plain": [
       "<Figure size 640x480 with 1 Axes>"
      ]
     },
     "metadata": {},
     "output_type": "display_data"
    }
   ],
   "source": [
    "display_image(1000)"
   ]
  },
  {
   "cell_type": "code",
   "execution_count": 106,
   "id": "37d55b60",
   "metadata": {},
   "outputs": [
    {
     "data": {
      "image/png": "[encoded data removed]",
      "text/plain": [
       "<Figure size 640x480 with 1 Axes>"
      ]
     },
     "metadata": {},
     "output_type": "display_data"
    }
   ],
   "source": [
    "display_image(1500)"
   ]
  },
  {
   "cell_type": "code",
   "execution_count": 107,
   "id": "9aa473aa",
   "metadata": {},
   "outputs": [
    {
     "data": {
      "image/png": "[encoded data removed]",
      "text/plain": [
       "<Figure size 640x480 with 1 Axes>"
      ]
     },
     "metadata": {},
     "output_type": "display_data"
    }
   ],
   "source": [
    "display_image(2000)"
   ]
  },
  {
   "cell_type": "code",
   "execution_count": 108,
   "id": "d1ad0122",
   "metadata": {},
   "outputs": [
    {
     "data": {
      "image/png": "[encoded data removed]",
      "text/plain": [
       "<Figure size 640x480 with 1 Axes>"
      ]
     },
     "metadata": {},
     "output_type": "display_data"
    }
   ],
   "source": [
    "display_image(3000)"
   ]
  },
  {
   "cell_type": "markdown",
   "id": "b4a3127a",
   "metadata": {},
   "source": [
    "## Task 3"
   ]
  },
  {
   "cell_type": "code",
   "execution_count": 6,
   "id": "2687befe",
   "metadata": {},
   "outputs": [
    {
     "ename": "TypeError",
     "evalue": "array() takes from 1 to 2 positional arguments but 8 were given",
     "output_type": "error",
     "traceback": [
      "\u001b[1;31m---------------------------------------------------------------------------\u001b[0m",
      "\u001b[1;31mTypeError\u001b[0m                                 Traceback (most recent call last)",
      "Cell \u001b[1;32mIn[6], line 1\u001b[0m\n\u001b[1;32m----> 1\u001b[0m data \u001b[38;5;241m=\u001b[39m np\u001b[38;5;241m.\u001b[39marray([\u001b[38;5;241m0.2\u001b[39m, \u001b[38;5;241m1.0\u001b[39m],[\u001b[38;5;241m0.3\u001b[39m, \u001b[38;5;241m1.0\u001b[39m],[\u001b[38;5;241m0.4\u001b[39m, \u001b[38;5;241m1.0\u001b[39m],[\u001b[38;5;241m0.5\u001b[39m, \u001b[38;5;241m0.6\u001b[39m],[\u001b[38;5;241m0.6\u001b[39m, \u001b[38;5;241m0.0\u001b[39m],[\u001b[38;5;241m0.7\u001b[39m, \u001b[38;5;241m0.0\u001b[39m],[\u001b[38;5;241m0.8\u001b[39m, \u001b[38;5;241m0.0\u001b[39m],[\u001b[38;5;241m0.9\u001b[39m, \u001b[38;5;241m0.0\u001b[39m])\n",
      "\u001b[1;31mTypeError\u001b[0m: array() takes from 1 to 2 positional arguments but 8 were given"
     ]
    }
   ],
   "source": [
    "data = np.array([0.2, 1.0],[0.3, 1.0],[0.4, 1.0],[0.5, 0.6],[0.6, 0.0],[0.7, 0.0],[0.8, 0.0],[0.9, 0.0])"
   ]
  },
  {
   "cell_type": "code",
   "execution_count": 5,
   "id": "a1ba5412",
   "metadata": {},
   "outputs": [
    {
     "data": {
      "application/vnd.plotly.v1+json": {
       "config": {
        "plotlyServerURL": "https://plot.ly"
       },
       "data": [
        {
         "alignmentgroup": "True",
         "hovertemplate": "Probability=%{x}<br>Fraction_Of_Convergence=%{y}<extra></extra>",
         "legendgroup": "",
         "marker": {
          "color": "#636efa",
          "pattern": {
           "shape": ""
          }
         },
         "name": "",
         "offsetgroup": "",
         "orientation": "v",
         "showlegend": false,
         "textposition": "auto",
         "type": "bar",
         "x": [
          "0.2",
          "0.3",
          "0.4",
          "0.5",
          "0.6",
          "0.7",
          "0.8",
          "0.9"
         ],
         "xaxis": "x",
         "y": [
          "1.0",
          "1.0",
          "1.0",
          "0.6",
          "0.6",
          "0.0",
          "0.0",
          "0.0"
         ],
         "yaxis": "y"
        }
       ],
       "layout": {
        "barmode": "relative",
        "legend": {
         "tracegroupgap": 0
        },
        "template": {
         "data": {
          "bar": [
           {
            "error_x": {
             "color": "#2a3f5f"
            },
            "error_y": {
             "color": "#2a3f5f"
            },
            "marker": {
             "line": {
              "color": "#E5ECF6",
              "width": 0.5
             },
             "pattern": {
              "fillmode": "overlay",
              "size": 10,
              "solidity": 0.2
             }
            },
            "type": "bar"
           }
          ],
          "barpolar": [
           {
            "marker": {
             "line": {
              "color": "#E5ECF6",
              "width": 0.5
             },
             "pattern": {
              "fillmode": "overlay",
              "size": 10,
              "solidity": 0.2
             }
            },
            "type": "barpolar"
           }
          ],
          "carpet": [
           {
            "aaxis": {
             "endlinecolor": "#2a3f5f",
             "gridcolor": "white",
             "linecolor": "white",
             "minorgridcolor": "white",
             "startlinecolor": "#2a3f5f"
            },
            "baxis": {
             "endlinecolor": "#2a3f5f",
             "gridcolor": "white",
             "linecolor": "white",
             "minorgridcolor": "white",
             "startlinecolor": "#2a3f5f"
            },
            "type": "carpet"
           }
          ],
          "choropleth": [
           {
            "colorbar": {
             "outlinewidth": 0,
             "ticks": ""
            },
            "type": "choropleth"
           }
          ],
          "contour": [
           {
            "colorbar": {
             "outlinewidth": 0,
             "ticks": ""
            },
            "colorscale": [
             [
              0,
              "#0d0887"
             ],
             [
              0.1111111111111111,
              "#46039f"
             ],
             [
              0.2222222222222222,
              "#7201a8"
             ],
             [
              0.3333333333333333,
              "#9c179e"
             ],
             [
              0.4444444444444444,
              "#bd3786"
             ],
             [
              0.5555555555555556,
              "#d8576b"
             ],
             [
              0.6666666666666666,
              "#ed7953"
             ],
             [
              0.7777777777777778,
              "#fb9f3a"
             ],
             [
              0.8888888888888888,
              "#fdca26"
             ],
             [
              1,
              "#f0f921"
             ]
            ],
            "type": "contour"
           }
          ],
          "contourcarpet": [
           {
            "colorbar": {
             "outlinewidth": 0,
             "ticks": ""
            },
            "type": "contourcarpet"
           }
          ],
          "heatmap": [
           {
            "colorbar": {
             "outlinewidth": 0,
             "ticks": ""
            },
            "colorscale": [
             [
              0,
              "#0d0887"
             ],
             [
              0.1111111111111111,
              "#46039f"
             ],
             [
              0.2222222222222222,
              "#7201a8"
             ],
             [
              0.3333333333333333,
              "#9c179e"
             ],
             [
              0.4444444444444444,
              "#bd3786"
             ],
             [
              0.5555555555555556,
              "#d8576b"
             ],
             [
              0.6666666666666666,
              "#ed7953"
             ],
             [
              0.7777777777777778,
              "#fb9f3a"
             ],
             [
              0.8888888888888888,
              "#fdca26"
             ],
             [
              1,
              "#f0f921"
             ]
            ],
            "type": "heatmap"
           }
          ],
          "heatmapgl": [
           {
            "colorbar": {
             "outlinewidth": 0,
             "ticks": ""
            },
            "colorscale": [
             [
              0,
              "#0d0887"
             ],
             [
              0.1111111111111111,
              "#46039f"
             ],
             [
              0.2222222222222222,
              "#7201a8"
             ],
             [
              0.3333333333333333,
              "#9c179e"
             ],
             [
              0.4444444444444444,
              "#bd3786"
             ],
             [
              0.5555555555555556,
              "#d8576b"
             ],
             [
              0.6666666666666666,
              "#ed7953"
             ],
             [
              0.7777777777777778,
              "#fb9f3a"
             ],
             [
              0.8888888888888888,
              "#fdca26"
             ],
             [
              1,
              "#f0f921"
             ]
            ],
            "type": "heatmapgl"
           }
          ],
          "histogram": [
           {
            "marker": {
             "pattern": {
              "fillmode": "overlay",
              "size": 10,
              "solidity": 0.2
             }
            },
            "type": "histogram"
           }
          ],
          "histogram2d": [
           {
            "colorbar": {
             "outlinewidth": 0,
             "ticks": ""
            },
            "colorscale": [
             [
              0,
              "#0d0887"
             ],
             [
              0.1111111111111111,
              "#46039f"
             ],
             [
              0.2222222222222222,
              "#7201a8"
             ],
             [
              0.3333333333333333,
              "#9c179e"
             ],
             [
              0.4444444444444444,
              "#bd3786"
             ],
             [
              0.5555555555555556,
              "#d8576b"
             ],
             [
              0.6666666666666666,
              "#ed7953"
             ],
             [
              0.7777777777777778,
              "#fb9f3a"
             ],
             [
              0.8888888888888888,
              "#fdca26"
             ],
             [
              1,
              "#f0f921"
             ]
            ],
            "type": "histogram2d"
           }
          ],
          "histogram2dcontour": [
           {
            "colorbar": {
             "outlinewidth": 0,
             "ticks": ""
            },
            "colorscale": [
             [
              0,
              "#0d0887"
             ],
             [
              0.1111111111111111,
              "#46039f"
             ],
             [
              0.2222222222222222,
              "#7201a8"
             ],
             [
              0.3333333333333333,
              "#9c179e"
             ],
             [
              0.4444444444444444,
              "#bd3786"
             ],
             [
              0.5555555555555556,
              "#d8576b"
             ],
             [
              0.6666666666666666,
              "#ed7953"
             ],
             [
              0.7777777777777778,
              "#fb9f3a"
             ],
             [
              0.8888888888888888,
              "#fdca26"
             ],
             [
              1,
              "#f0f921"
             ]
            ],
            "type": "histogram2dcontour"
           }
          ],
          "mesh3d": [
           {
            "colorbar": {
             "outlinewidth": 0,
             "ticks": ""
            },
            "type": "mesh3d"
           }
          ],
          "parcoords": [
           {
            "line": {
             "colorbar": {
              "outlinewidth": 0,
              "ticks": ""
             }
            },
            "type": "parcoords"
           }
          ],
          "pie": [
           {
            "automargin": true,
            "type": "pie"
           }
          ],
          "scatter": [
           {
            "fillpattern": {
             "fillmode": "overlay",
             "size": 10,
             "solidity": 0.2
            },
            "type": "scatter"
           }
          ],
          "scatter3d": [
           {
            "line": {
             "colorbar": {
              "outlinewidth": 0,
              "ticks": ""
             }
            },
            "marker": {
             "colorbar": {
              "outlinewidth": 0,
              "ticks": ""
             }
            },
            "type": "scatter3d"
           }
          ],
          "scattercarpet": [
           {
            "marker": {
             "colorbar": {
              "outlinewidth": 0,
              "ticks": ""
             }
            },
            "type": "scattercarpet"
           }
          ],
          "scattergeo": [
           {
            "marker": {
             "colorbar": {
              "outlinewidth": 0,
              "ticks": ""
             }
            },
            "type": "scattergeo"
           }
          ],
          "scattergl": [
           {
            "marker": {
             "colorbar": {
              "outlinewidth": 0,
              "ticks": ""
             }
            },
            "type": "scattergl"
           }
          ],
          "scattermapbox": [
           {
            "marker": {
             "colorbar": {
              "outlinewidth": 0,
              "ticks": ""
             }
            },
            "type": "scattermapbox"
           }
          ],
          "scatterpolar": [
           {
            "marker": {
             "colorbar": {
              "outlinewidth": 0,
              "ticks": ""
             }
            },
            "type": "scatterpolar"
           }
          ],
          "scatterpolargl": [
           {
            "marker": {
             "colorbar": {
              "outlinewidth": 0,
              "ticks": ""
             }
            },
            "type": "scatterpolargl"
           }
          ],
          "scatterternary": [
           {
            "marker": {
             "colorbar": {
              "outlinewidth": 0,
              "ticks": ""
             }
            },
            "type": "scatterternary"
           }
          ],
          "surface": [
           {
            "colorbar": {
             "outlinewidth": 0,
             "ticks": ""
            },
            "colorscale": [
             [
              0,
              "#0d0887"
             ],
             [
              0.1111111111111111,
              "#46039f"
             ],
             [
              0.2222222222222222,
              "#7201a8"
             ],
             [
              0.3333333333333333,
              "#9c179e"
             ],
             [
              0.4444444444444444,
              "#bd3786"
             ],
             [
              0.5555555555555556,
              "#d8576b"
             ],
             [
              0.6666666666666666,
              "#ed7953"
             ],
             [
              0.7777777777777778,
              "#fb9f3a"
             ],
             [
              0.8888888888888888,
              "#fdca26"
             ],
             [
              1,
              "#f0f921"
             ]
            ],
            "type": "surface"
           }
          ],
          "table": [
           {
            "cells": {
             "fill": {
              "color": "#EBF0F8"
             },
             "line": {
              "color": "white"
             }
            },
            "header": {
             "fill": {
              "color": "#C8D4E3"
             },
             "line": {
              "color": "white"
             }
            },
            "type": "table"
           }
          ]
         },
         "layout": {
          "annotationdefaults": {
           "arrowcolor": "#2a3f5f",
           "arrowhead": 0,
           "arrowwidth": 1
          },
          "autotypenumbers": "strict",
          "coloraxis": {
           "colorbar": {
            "outlinewidth": 0,
            "ticks": ""
           }
          },
          "colorscale": {
           "diverging": [
            [
             0,
             "#8e0152"
            ],
            [
             0.1,
             "#c51b7d"
            ],
            [
             0.2,
             "#de77ae"
            ],
            [
             0.3,
             "#f1b6da"
            ],
            [
             0.4,
             "#fde0ef"
            ],
            [
             0.5,
             "#f7f7f7"
            ],
            [
             0.6,
             "#e6f5d0"
            ],
            [
             0.7,
             "#b8e186"
            ],
            [
             0.8,
             "#7fbc41"
            ],
            [
             0.9,
             "#4d9221"
            ],
            [
             1,
             "#276419"
            ]
           ],
           "sequential": [
            [
             0,
             "#0d0887"
            ],
            [
             0.1111111111111111,
             "#46039f"
            ],
            [
             0.2222222222222222,
             "#7201a8"
            ],
            [
             0.3333333333333333,
             "#9c179e"
            ],
            [
             0.4444444444444444,
             "#bd3786"
            ],
            [
             0.5555555555555556,
             "#d8576b"
            ],
            [
             0.6666666666666666,
             "#ed7953"
            ],
            [
             0.7777777777777778,
             "#fb9f3a"
            ],
            [
             0.8888888888888888,
             "#fdca26"
            ],
            [
             1,
             "#f0f921"
            ]
           ],
           "sequentialminus": [
            [
             0,
             "#0d0887"
            ],
            [
             0.1111111111111111,
             "#46039f"
            ],
            [
             0.2222222222222222,
             "#7201a8"
            ],
            [
             0.3333333333333333,
             "#9c179e"
            ],
            [
             0.4444444444444444,
             "#bd3786"
            ],
            [
             0.5555555555555556,
             "#d8576b"
            ],
            [
             0.6666666666666666,
             "#ed7953"
            ],
            [
             0.7777777777777778,
             "#fb9f3a"
            ],
            [
             0.8888888888888888,
             "#fdca26"
            ],
            [
             1,
             "#f0f921"
            ]
           ]
          },
          "colorway": [
           "#636efa",
           "#EF553B",
           "#00cc96",
           "#ab63fa",
           "#FFA15A",
           "#19d3f3",
           "#FF6692",
           "#B6E880",
           "#FF97FF",
           "#FECB52"
          ],
          "font": {
           "color": "#2a3f5f"
          },
          "geo": {
           "bgcolor": "white",
           "lakecolor": "white",
           "landcolor": "#E5ECF6",
           "showlakes": true,
           "showland": true,
           "subunitcolor": "white"
          },
          "hoverlabel": {
           "align": "left"
          },
          "hovermode": "closest",
          "mapbox": {
           "style": "light"
          },
          "paper_bgcolor": "white",
          "plot_bgcolor": "#E5ECF6",
          "polar": {
           "angularaxis": {
            "gridcolor": "white",
            "linecolor": "white",
            "ticks": ""
           },
           "bgcolor": "#E5ECF6",
           "radialaxis": {
            "gridcolor": "white",
            "linecolor": "white",
            "ticks": ""
           }
          },
          "scene": {
           "xaxis": {
            "backgroundcolor": "#E5ECF6",
            "gridcolor": "white",
            "gridwidth": 2,
            "linecolor": "white",
            "showbackground": true,
            "ticks": "",
            "zerolinecolor": "white"
           },
           "yaxis": {
            "backgroundcolor": "#E5ECF6",
            "gridcolor": "white",
            "gridwidth": 2,
            "linecolor": "white",
            "showbackground": true,
            "ticks": "",
            "zerolinecolor": "white"
           },
           "zaxis": {
            "backgroundcolor": "#E5ECF6",
            "gridcolor": "white",
            "gridwidth": 2,
            "linecolor": "white",
            "showbackground": true,
            "ticks": "",
            "zerolinecolor": "white"
           }
          },
          "shapedefaults": {
           "line": {
            "color": "#2a3f5f"
           }
          },
          "ternary": {
           "aaxis": {
            "gridcolor": "white",
            "linecolor": "white",
            "ticks": ""
           },
           "baxis": {
            "gridcolor": "white",
            "linecolor": "white",
            "ticks": ""
           },
           "bgcolor": "#E5ECF6",
           "caxis": {
            "gridcolor": "white",
            "linecolor": "white",
            "ticks": ""
           }
          },
          "title": {
           "x": 0.05
          },
          "xaxis": {
           "automargin": true,
           "gridcolor": "white",
           "linecolor": "white",
           "ticks": "",
           "title": {
            "standoff": 15
           },
           "zerolinecolor": "white",
           "zerolinewidth": 2
          },
          "yaxis": {
           "automargin": true,
           "gridcolor": "white",
           "linecolor": "white",
           "ticks": "",
           "title": {
            "standoff": 15
           },
           "zerolinecolor": "white",
           "zerolinewidth": 2
          }
         }
        },
        "title": {
         "text": "Fraction of Convergence vs. Probability"
        },
        "xaxis": {
         "anchor": "y",
         "domain": [
          0,
          1
         ],
         "title": {
          "text": "Probability"
         }
        },
        "yaxis": {
         "anchor": "x",
         "domain": [
          0,
          1
         ],
         "title": {
          "text": "Fraction_Of_Convergence"
         }
        }
       }
      },
      "text/html": [
       "<div>                            <div id=\"12057cf8-3679-4dff-8d44-c891cf8d8132\" class=\"plotly-graph-div\" style=\"height:525px; width:100%;\"></div>            <script type=\"text/javascript\">                require([\"plotly\"], function(Plotly) {                    window.PLOTLYENV=window.PLOTLYENV || {};                                    if (document.getElementById(\"12057cf8-3679-4dff-8d44-c891cf8d8132\")) {                    Plotly.newPlot(                        \"12057cf8-3679-4dff-8d44-c891cf8d8132\",                        [{\"alignmentgroup\":\"True\",\"hovertemplate\":\"Probability=%{x}\\u003cbr\\u003eFraction_Of_Convergence=%{y}\\u003cextra\\u003e\\u003c\\u002fextra\\u003e\",\"legendgroup\":\"\",\"marker\":{\"color\":\"#636efa\",\"pattern\":{\"shape\":\"\"}},\"name\":\"\",\"offsetgroup\":\"\",\"orientation\":\"v\",\"showlegend\":false,\"textposition\":\"auto\",\"x\":[\"0.2\",\"0.3\",\"0.4\",\"0.5\",\"0.6\",\"0.7\",\"0.8\",\"0.9\"],\"xaxis\":\"x\",\"y\":[\"1.0\",\"1.0\",\"1.0\",\"0.6\",\"0.6\",\"0.0\",\"0.0\",\"0.0\"],\"yaxis\":\"y\",\"type\":\"bar\"}],                        {\"template\":{\"data\":{\"histogram2dcontour\":[{\"type\":\"histogram2dcontour\",\"colorbar\":{\"outlinewidth\":0,\"ticks\":\"\"},\"colorscale\":[[0.0,\"#0d0887\"],[0.1111111111111111,\"#46039f\"],[0.2222222222222222,\"#7201a8\"],[0.3333333333333333,\"#9c179e\"],[0.4444444444444444,\"#bd3786\"],[0.5555555555555556,\"#d8576b\"],[0.6666666666666666,\"#ed7953\"],[0.7777777777777778,\"#fb9f3a\"],[0.8888888888888888,\"#fdca26\"],[1.0,\"#f0f921\"]]}],\"choropleth\":[{\"type\":\"choropleth\",\"colorbar\":{\"outlinewidth\":0,\"ticks\":\"\"}}],\"histogram2d\":[{\"type\":\"histogram2d\",\"colorbar\":{\"outlinewidth\":0,\"ticks\":\"\"},\"colorscale\":[[0.0,\"#0d0887\"],[0.1111111111111111,\"#46039f\"],[0.2222222222222222,\"#7201a8\"],[0.3333333333333333,\"#9c179e\"],[0.4444444444444444,\"#bd3786\"],[0.5555555555555556,\"#d8576b\"],[0.6666666666666666,\"#ed7953\"],[0.7777777777777778,\"#fb9f3a\"],[0.8888888888888888,\"#fdca26\"],[1.0,\"#f0f921\"]]}],\"heatmap\":[{\"type\":\"heatmap\",\"colorbar\":{\"outlinewidth\":0,\"ticks\":\"\"},\"colorscale\":[[0.0,\"#0d0887\"],[0.1111111111111111,\"#46039f\"],[0.2222222222222222,\"#7201a8\"],[0.3333333333333333,\"#9c179e\"],[0.4444444444444444,\"#bd3786\"],[0.5555555555555556,\"#d8576b\"],[0.6666666666666666,\"#ed7953\"],[0.7777777777777778,\"#fb9f3a\"],[0.8888888888888888,\"#fdca26\"],[1.0,\"#f0f921\"]]}],\"heatmapgl\":[{\"type\":\"heatmapgl\",\"colorbar\":{\"outlinewidth\":0,\"ticks\":\"\"},\"colorscale\":[[0.0,\"#0d0887\"],[0.1111111111111111,\"#46039f\"],[0.2222222222222222,\"#7201a8\"],[0.3333333333333333,\"#9c179e\"],[0.4444444444444444,\"#bd3786\"],[0.5555555555555556,\"#d8576b\"],[0.6666666666666666,\"#ed7953\"],[0.7777777777777778,\"#fb9f3a\"],[0.8888888888888888,\"#fdca26\"],[1.0,\"#f0f921\"]]}],\"contourcarpet\":[{\"type\":\"contourcarpet\",\"colorbar\":{\"outlinewidth\":0,\"ticks\":\"\"}}],\"contour\":[{\"type\":\"contour\",\"colorbar\":{\"outlinewidth\":0,\"ticks\":\"\"},\"colorscale\":[[0.0,\"#0d0887\"],[0.1111111111111111,\"#46039f\"],[0.2222222222222222,\"#7201a8\"],[0.3333333333333333,\"#9c179e\"],[0.4444444444444444,\"#bd3786\"],[0.5555555555555556,\"#d8576b\"],[0.6666666666666666,\"#ed7953\"],[0.7777777777777778,\"#fb9f3a\"],[0.8888888888888888,\"#fdca26\"],[1.0,\"#f0f921\"]]}],\"surface\":[{\"type\":\"surface\",\"colorbar\":{\"outlinewidth\":0,\"ticks\":\"\"},\"colorscale\":[[0.0,\"#0d0887\"],[0.1111111111111111,\"#46039f\"],[0.2222222222222222,\"#7201a8\"],[0.3333333333333333,\"#9c179e\"],[0.4444444444444444,\"#bd3786\"],[0.5555555555555556,\"#d8576b\"],[0.6666666666666666,\"#ed7953\"],[0.7777777777777778,\"#fb9f3a\"],[0.8888888888888888,\"#fdca26\"],[1.0,\"#f0f921\"]]}],\"mesh3d\":[{\"type\":\"mesh3d\",\"colorbar\":{\"outlinewidth\":0,\"ticks\":\"\"}}],\"scatter\":[{\"fillpattern\":{\"fillmode\":\"overlay\",\"size\":10,\"solidity\":0.2},\"type\":\"scatter\"}],\"parcoords\":[{\"type\":\"parcoords\",\"line\":{\"colorbar\":{\"outlinewidth\":0,\"ticks\":\"\"}}}],\"scatterpolargl\":[{\"type\":\"scatterpolargl\",\"marker\":{\"colorbar\":{\"outlinewidth\":0,\"ticks\":\"\"}}}],\"bar\":[{\"error_x\":{\"color\":\"#2a3f5f\"},\"error_y\":{\"color\":\"#2a3f5f\"},\"marker\":{\"line\":{\"color\":\"#E5ECF6\",\"width\":0.5},\"pattern\":{\"fillmode\":\"overlay\",\"size\":10,\"solidity\":0.2}},\"type\":\"bar\"}],\"scattergeo\":[{\"type\":\"scattergeo\",\"marker\":{\"colorbar\":{\"outlinewidth\":0,\"ticks\":\"\"}}}],\"scatterpolar\":[{\"type\":\"scatterpolar\",\"marker\":{\"colorbar\":{\"outlinewidth\":0,\"ticks\":\"\"}}}],\"histogram\":[{\"marker\":{\"pattern\":{\"fillmode\":\"overlay\",\"size\":10,\"solidity\":0.2}},\"type\":\"histogram\"}],\"scattergl\":[{\"type\":\"scattergl\",\"marker\":{\"colorbar\":{\"outlinewidth\":0,\"ticks\":\"\"}}}],\"scatter3d\":[{\"type\":\"scatter3d\",\"line\":{\"colorbar\":{\"outlinewidth\":0,\"ticks\":\"\"}},\"marker\":{\"colorbar\":{\"outlinewidth\":0,\"ticks\":\"\"}}}],\"scattermapbox\":[{\"type\":\"scattermapbox\",\"marker\":{\"colorbar\":{\"outlinewidth\":0,\"ticks\":\"\"}}}],\"scatterternary\":[{\"type\":\"scatterternary\",\"marker\":{\"colorbar\":{\"outlinewidth\":0,\"ticks\":\"\"}}}],\"scattercarpet\":[{\"type\":\"scattercarpet\",\"marker\":{\"colorbar\":{\"outlinewidth\":0,\"ticks\":\"\"}}}],\"carpet\":[{\"aaxis\":{\"endlinecolor\":\"#2a3f5f\",\"gridcolor\":\"white\",\"linecolor\":\"white\",\"minorgridcolor\":\"white\",\"startlinecolor\":\"#2a3f5f\"},\"baxis\":{\"endlinecolor\":\"#2a3f5f\",\"gridcolor\":\"white\",\"linecolor\":\"white\",\"minorgridcolor\":\"white\",\"startlinecolor\":\"#2a3f5f\"},\"type\":\"carpet\"}],\"table\":[{\"cells\":{\"fill\":{\"color\":\"#EBF0F8\"},\"line\":{\"color\":\"white\"}},\"header\":{\"fill\":{\"color\":\"#C8D4E3\"},\"line\":{\"color\":\"white\"}},\"type\":\"table\"}],\"barpolar\":[{\"marker\":{\"line\":{\"color\":\"#E5ECF6\",\"width\":0.5},\"pattern\":{\"fillmode\":\"overlay\",\"size\":10,\"solidity\":0.2}},\"type\":\"barpolar\"}],\"pie\":[{\"automargin\":true,\"type\":\"pie\"}]},\"layout\":{\"autotypenumbers\":\"strict\",\"colorway\":[\"#636efa\",\"#EF553B\",\"#00cc96\",\"#ab63fa\",\"#FFA15A\",\"#19d3f3\",\"#FF6692\",\"#B6E880\",\"#FF97FF\",\"#FECB52\"],\"font\":{\"color\":\"#2a3f5f\"},\"hovermode\":\"closest\",\"hoverlabel\":{\"align\":\"left\"},\"paper_bgcolor\":\"white\",\"plot_bgcolor\":\"#E5ECF6\",\"polar\":{\"bgcolor\":\"#E5ECF6\",\"angularaxis\":{\"gridcolor\":\"white\",\"linecolor\":\"white\",\"ticks\":\"\"},\"radialaxis\":{\"gridcolor\":\"white\",\"linecolor\":\"white\",\"ticks\":\"\"}},\"ternary\":{\"bgcolor\":\"#E5ECF6\",\"aaxis\":{\"gridcolor\":\"white\",\"linecolor\":\"white\",\"ticks\":\"\"},\"baxis\":{\"gridcolor\":\"white\",\"linecolor\":\"white\",\"ticks\":\"\"},\"caxis\":{\"gridcolor\":\"white\",\"linecolor\":\"white\",\"ticks\":\"\"}},\"coloraxis\":{\"colorbar\":{\"outlinewidth\":0,\"ticks\":\"\"}},\"colorscale\":{\"sequential\":[[0.0,\"#0d0887\"],[0.1111111111111111,\"#46039f\"],[0.2222222222222222,\"#7201a8\"],[0.3333333333333333,\"#9c179e\"],[0.4444444444444444,\"#bd3786\"],[0.5555555555555556,\"#d8576b\"],[0.6666666666666666,\"#ed7953\"],[0.7777777777777778,\"#fb9f3a\"],[0.8888888888888888,\"#fdca26\"],[1.0,\"#f0f921\"]],\"sequentialminus\":[[0.0,\"#0d0887\"],[0.1111111111111111,\"#46039f\"],[0.2222222222222222,\"#7201a8\"],[0.3333333333333333,\"#9c179e\"],[0.4444444444444444,\"#bd3786\"],[0.5555555555555556,\"#d8576b\"],[0.6666666666666666,\"#ed7953\"],[0.7777777777777778,\"#fb9f3a\"],[0.8888888888888888,\"#fdca26\"],[1.0,\"#f0f921\"]],\"diverging\":[[0,\"#8e0152\"],[0.1,\"#c51b7d\"],[0.2,\"#de77ae\"],[0.3,\"#f1b6da\"],[0.4,\"#fde0ef\"],[0.5,\"#f7f7f7\"],[0.6,\"#e6f5d0\"],[0.7,\"#b8e186\"],[0.8,\"#7fbc41\"],[0.9,\"#4d9221\"],[1,\"#276419\"]]},\"xaxis\":{\"gridcolor\":\"white\",\"linecolor\":\"white\",\"ticks\":\"\",\"title\":{\"standoff\":15},\"zerolinecolor\":\"white\",\"automargin\":true,\"zerolinewidth\":2},\"yaxis\":{\"gridcolor\":\"white\",\"linecolor\":\"white\",\"ticks\":\"\",\"title\":{\"standoff\":15},\"zerolinecolor\":\"white\",\"automargin\":true,\"zerolinewidth\":2},\"scene\":{\"xaxis\":{\"backgroundcolor\":\"#E5ECF6\",\"gridcolor\":\"white\",\"linecolor\":\"white\",\"showbackground\":true,\"ticks\":\"\",\"zerolinecolor\":\"white\",\"gridwidth\":2},\"yaxis\":{\"backgroundcolor\":\"#E5ECF6\",\"gridcolor\":\"white\",\"linecolor\":\"white\",\"showbackground\":true,\"ticks\":\"\",\"zerolinecolor\":\"white\",\"gridwidth\":2},\"zaxis\":{\"backgroundcolor\":\"#E5ECF6\",\"gridcolor\":\"white\",\"linecolor\":\"white\",\"showbackground\":true,\"ticks\":\"\",\"zerolinecolor\":\"white\",\"gridwidth\":2}},\"shapedefaults\":{\"line\":{\"color\":\"#2a3f5f\"}},\"annotationdefaults\":{\"arrowcolor\":\"#2a3f5f\",\"arrowhead\":0,\"arrowwidth\":1},\"geo\":{\"bgcolor\":\"white\",\"landcolor\":\"#E5ECF6\",\"subunitcolor\":\"white\",\"showland\":true,\"showlakes\":true,\"lakecolor\":\"white\"},\"title\":{\"x\":0.05},\"mapbox\":{\"style\":\"light\"}}},\"xaxis\":{\"anchor\":\"y\",\"domain\":[0.0,1.0],\"title\":{\"text\":\"Probability\"}},\"yaxis\":{\"anchor\":\"x\",\"domain\":[0.0,1.0],\"title\":{\"text\":\"Fraction_Of_Convergence\"}},\"legend\":{\"tracegroupgap\":0},\"title\":{\"text\":\"Fraction of Convergence vs. Probability\"},\"barmode\":\"relative\"},                        {\"responsive\": true}                    ).then(function(){\n",
       "                            \n",
       "var gd = document.getElementById('12057cf8-3679-4dff-8d44-c891cf8d8132');\n",
       "var x = new MutationObserver(function (mutations, observer) {{\n",
       "        var display = window.getComputedStyle(gd).display;\n",
       "        if (!display || display === 'none') {{\n",
       "            console.log([gd, 'removed!']);\n",
       "            Plotly.purge(gd);\n",
       "            observer.disconnect();\n",
       "        }}\n",
       "}});\n",
       "\n",
       "// Listen for the removal of the full notebook cells\n",
       "var notebookContainer = gd.closest('#notebook-container');\n",
       "if (notebookContainer) {{\n",
       "    x.observe(notebookContainer, {childList: true});\n",
       "}}\n",
       "\n",
       "// Listen for the clearing of the current output cell\n",
       "var outputEl = gd.closest('.output');\n",
       "if (outputEl) {{\n",
       "    x.observe(outputEl, {childList: true});\n",
       "}}\n",
       "\n",
       "                        })                };                });            </script>        </div>"
      ]
     },
     "metadata": {},
     "output_type": "display_data"
    }
   ],
   "source": [
    "fig = px.bar(df, x=\"Probability\", y=\"Fraction_Of_Convergence\", title=\"Fraction of Convergence vs. Probability\")\n",
    "\n",
    "# Show the chart\n",
    "fig.show()"
   ]
  },
  {
   "cell_type": "code",
   "execution_count": 69,
   "id": "1d98eccc",
   "metadata": {},
   "outputs": [
    {
     "data": {
      "text/plain": [
       "{'Probability': ['0.2', '0.3', '0.4', '0.5', '0.6', '0.7', '0.8', '0.9'],\n",
       " 'Fraction_Of_Convergecne': ['1.0',\n",
       "  '1.0',\n",
       "  '1.0',\n",
       "  '0.6',\n",
       "  '0.6',\n",
       "  '0.0',\n",
       "  '0.0',\n",
       "  '0.0']}"
      ]
     },
     "execution_count": 69,
     "metadata": {},
     "output_type": "execute_result"
    }
   ],
   "source": []
  },
  {
   "cell_type": "code",
   "execution_count": null,
   "id": "755f0223",
   "metadata": {},
   "outputs": [],
   "source": []
  }
 ],
 "metadata": {
  "kernelspec": {
   "display_name": "Python 3 (ipykernel)",
   "language": "python",
   "name": "python3"
  },
  "language_info": {
   "codemirror_mode": {
    "name": "ipython",
    "version": 3
   },
   "file_extension": ".py",
   "mimetype": "text/x-python",
   "name": "python",
   "nbconvert_exporter": "python",
   "pygments_lexer": "ipython3",
   "version": "3.11.4"
  }
 },
 "nbformat": 4,
 "nbformat_minor": 5
}
