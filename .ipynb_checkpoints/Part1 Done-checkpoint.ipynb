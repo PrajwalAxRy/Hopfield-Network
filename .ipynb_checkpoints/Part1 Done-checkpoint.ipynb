{
 "cells": [
  {
   "cell_type": "code",
   "execution_count": 1,
   "id": "39825316",
   "metadata": {},
   "outputs": [],
   "source": [
    "import numpy as np\n",
    "from PIL import Image\n",
    "import os\n",
    "import random"
   ]
  },
  {
   "cell_type": "code",
   "execution_count": 2,
   "id": "a653e9a8",
   "metadata": {},
   "outputs": [],
   "source": [
    "def initialize_weight_matrix(neurons_num, training_data):\n",
    "    # Initialize the weight matrix with zeros\n",
    "    weight_matrix = np.zeros((neurons_num, neurons_num))\n",
    "\n",
    "    # Initialize the weight matrix using Hebbian Learning\n",
    "    for pattern in training_data:\n",
    "        pattern = pattern.reshape((-1, 1))\n",
    "        weight_matrix = weight_matrix + np.dot(pattern, pattern.T)\n",
    "\n",
    "    weight_matrix /= len(training_data)\n",
    "\n",
    "    return weight_matrix"
   ]
  },
  {
   "cell_type": "code",
   "execution_count": 3,
   "id": "8fc80d73",
   "metadata": {},
   "outputs": [],
   "source": [
    "def load_training_data(folder_path):\n",
    "    # This is an empty list which we will use to store the training patterns (PBM images as binary vectors)\n",
    "    training_data = []\n",
    "\n",
    "    # Iterating over all the files in our workpics folder\n",
    "    for pbm_file in os.listdir(folder_path):\n",
    "        if pbm_file.endswith(\".pbm\"):\n",
    "            # Check if the file extension is correct\n",
    "            file_path = os.path.join(folder_path, pbm_file)\n",
    "\n",
    "            # Opening and adding it to the training dataset list\n",
    "            with Image.open(file_path) as img:\n",
    "                img = img.resize((60, 60), Image.LANCZOS)\n",
    "                img = img.convert('L')\n",
    "\n",
    "                binary_vector = np.array(img).flatten()\n",
    "\n",
    "                # To make the image into \"light\" and \"dark\" pattern. (Threshold = 128)\n",
    "                binary_vector[binary_vector < 128] = 0\n",
    "                binary_vector[binary_vector >= 128] = 1\n",
    "\n",
    "                # Finally append the vector to the training data set.\n",
    "                training_data.append(binary_vector)\n",
    "\n",
    "    return training_data"
   ]
  },
  {
   "cell_type": "code",
   "execution_count": 4,
   "id": "b20dffe8",
   "metadata": {},
   "outputs": [],
   "source": [
    "def save_network_state_as_pbm(state, file_path, image_size):\n",
    "    binary_state = state.astype(np.uint8) * 255\n",
    "    binary_state = binary_state.reshape(image_size)\n",
    "    img = Image.fromarray(binary_state, mode='L')\n",
    "    img.save(file_path)"
   ]
  },
  {
   "cell_type": "code",
   "execution_count": 5,
   "id": "24a4af92",
   "metadata": {},
   "outputs": [],
   "source": [
    "def sync_simulation(training_data, num_iterations, output_folder):\n",
    "    neurons_num = training_data[0].shape[0]\n",
    "    \n",
    "    # Initialize the weight matrix\n",
    "    weight_matrix = initialize_weight_matrix(neurons_num, training_data)\n",
    "\n",
    "    # Create an initial state for the Hopfield Network\n",
    "    initial_state = random.choice(training_data).copy()\n",
    "\n",
    "    # Perform Hopfield Network updates and save states midway\n",
    "    for i in range(num_iterations):\n",
    "        activations = np.dot(weight_matrix, initial_state)\n",
    "        new_state = (activations >= 0.5).astype(int)\n",
    "        \n",
    "        # Update the state for the next iteration\n",
    "        initial_state = new_state\n",
    "        \n",
    "        # Save the current state as a PBM image midway\n",
    "        if i % 10 == 0:\n",
    "            output_path = os.path.join(output_folder, 'sync_states',f'synchronous_state_{i}.pbm')\n",
    "            save_network_state_as_pbm(initial_state, output_path, (60, 60))\n",
    "\n",
    "\n",
    "    print(\"Synchronous Hopfield Network updates completed.\")\n"
   ]
  },
  {
   "cell_type": "code",
   "execution_count": 6,
   "id": "d4e44287",
   "metadata": {},
   "outputs": [],
   "source": [
    "def async_simulation(training_data, num_iterations, output_folder):\n",
    "    neurons_num = training_data[0].shape[0]\n",
    "\n",
    "    weight_matrix = initialize_weight_matrix(neurons_num, training_data)\n",
    "    initial_state = random.choice(training_data).copy()\n",
    "    for i in range(num_iterations):\n",
    "        neuron_index = random.randint(0, neurons_num - 1)\n",
    "        activation = np.dot(weight_matrix[neuron_index, :], initial_state)\n",
    "        new_state = 1 if activation >= 0.5 else 0\n",
    "        initial_state[neuron_index] = new_state\n",
    "        if i % 10 == 0:\n",
    "            output_path = os.path.join(output_folder, 'async_states',f'_state_{i}.pbm')\n",
    "            save_network_state_as_pbm(initial_state, output_path, (60, 60))\n",
    "\n",
    "    print(\"Hopfield Network updates completed ASYNCRONOUSLY.\")"
   ]
  },
  {
   "cell_type": "code",
   "execution_count": 7,
   "id": "592f2eaa",
   "metadata": {},
   "outputs": [],
   "source": [
    "# Path to the PBM pictures\n",
    "folderPath = \"workpics\"\n",
    "\n",
    "# Number of iterations for updating the network\n",
    "numIterations = 105\n",
    "\n",
    "# Create an output folder for saving the states\n",
    "outputFolder = \"network_states\"\n",
    "os.makedirs(outputFolder, exist_ok=True)\n",
    "os.makedirs(os.path.join(outputFolder, 'async_states'), exist_ok=True)\n",
    "os.makedirs(os.path.join(outputFolder, 'sync_states'), exist_ok=True)"
   ]
  },
  {
   "cell_type": "code",
   "execution_count": 8,
   "id": "ec073242",
   "metadata": {},
   "outputs": [],
   "source": [
    "trainingData = load_training_data(folderPath)"
   ]
  },
  {
   "cell_type": "code",
   "execution_count": 9,
   "id": "ab4279ce",
   "metadata": {},
   "outputs": [
    {
     "name": "stdout",
     "output_type": "stream",
     "text": [
      "Synchronous Hopfield Network updates completed.\n"
     ]
    }
   ],
   "source": [
    "sync_simulation(trainingData, numIterations, outputFolder)"
   ]
  },
  {
   "cell_type": "code",
   "execution_count": 10,
   "id": "a68e407a",
   "metadata": {},
   "outputs": [
    {
     "name": "stdout",
     "output_type": "stream",
     "text": [
      "Hopfield Network updates completed ASYNCRONOUSLY.\n"
     ]
    }
   ],
   "source": [
    "async_simulation(trainingData, numIterations, outputFolder)"
   ]
  },
  {
   "cell_type": "code",
   "execution_count": null,
   "id": "88aa11cb",
   "metadata": {},
   "outputs": [],
   "source": []
  },
  {
   "cell_type": "code",
   "execution_count": null,
   "id": "40995eb9",
   "metadata": {},
   "outputs": [],
   "source": []
  },
  {
   "cell_type": "code",
   "execution_count": null,
   "id": "0304b805",
   "metadata": {},
   "outputs": [],
   "source": [
    "Now that I have done this much in my code from the initial assignment pdf, what else is left?\n",
    "\n",
    "For reference:\n",
    "In this programming assignment, you will write code to train your own Hopfield Network from\n",
    "scratch, to store memories, following which you will run some experiments on it.\n",
    "You will use 60x60px black & white images in the PBM format. PBM is an ASCII format to store\n",
    "binary images, which are also convenient to read and write to by writing your own I/O code\n",
    "to do file handling. Look up the details on the format. PBM files can be converted/displayed\n",
    "by most image processing/handling programs or online.\n",
    "Build a dataset of 25 PBM images of size 60x60px. Feel free to download images from the\n",
    "internet or use your own images; resize them to size 60x60px and convert them to the ASCII\n",
    "PBM format.\n",
    "1. [10 marks] Set up code to read memories from PBM files and write the current state\n",
    "of the Hopfield Network onto a PBM file midway during updates. Use your dataset of\n",
    "25 PBM images (which you will also print in your report) to initialize and train a\n",
    "Hopfield Network via the Hebbian Learning rule discussed in class.\n",
    "2. [10 marks] Write code to corrupt a given memory from a PBM file by either (a) flipping\n",
    "each pixel with probability p, or (b) by “cropping it”, by keeping a part of the image\n",
    "inside a bounding box to be identical to the original memory, and turn every pixel\n",
    "outside to all black or all white.\n",
    "Write code to update your Hopfield net (a) synchronously, (b) asynchronously,starting\n",
    "from an initial memory. In your report, take 2 initializations, (1) An image of a stored\n",
    "memory corrupted with probability p=0.3 and (2) An image with a bounding box of\n",
    "40x40px. For the same initializations, report a sequence of asynchronous updates and\n",
    "synchronous updates respectively, upto convergence.\n",
    "3. [10 marks] For probability p=0.2, 0.3, 0.4, 0.5, 0.6, 0.7, 0.8 and 0.9 respectively, take\n",
    "20 initializations for each probability value, and starting from the initialization, run the\n",
    "network to convergence via synchronous updates, while keeping track of number of\n",
    "update steps used to do so. For each run, determine if convergence was to the\n",
    "corresponding stored memory that was corrupted. Report for each p value above, via\n",
    "a bar chart, the fraction of initializations that converged to the “correct” uncorrupted\n",
    "memory. Secondly, for each p value above, wherein the initialization converged to the\n",
    "correct uncorrupted memory, plot a separate histogram for the number of update\n",
    "steps needed for each convergence."
   ]
  }
 ],
 "metadata": {
  "kernelspec": {
   "display_name": "Python 3 (ipykernel)",
   "language": "python",
   "name": "python3"
  },
  "language_info": {
   "codemirror_mode": {
    "name": "ipython",
    "version": 3
   },
   "file_extension": ".py",
   "mimetype": "text/x-python",
   "name": "python",
   "nbconvert_exporter": "python",
   "pygments_lexer": "ipython3",
   "version": "3.11.4"
  }
 },
 "nbformat": 4,
 "nbformat_minor": 5
}
