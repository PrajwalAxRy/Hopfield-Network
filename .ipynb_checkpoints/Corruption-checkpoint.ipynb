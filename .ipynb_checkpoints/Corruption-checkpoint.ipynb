{
 "cells": [
  {
   "cell_type": "code",
   "execution_count": null,
   "id": "39825316",
   "metadata": {},
   "outputs": [],
   "source": [
    "import numpy as np\n",
    "from PIL import Image\n",
    "import os\n",
    "import random"
   ]
  },
  {
   "cell_type": "code",
   "execution_count": null,
   "id": "9fb0f8b2",
   "metadata": {},
   "outputs": [],
   "source": [
    "def display_image(image_path):\n",
    "    # Open the image file\n",
    "    img = Image.open(image_path)\n",
    "\n",
    "    # Display the image\n",
    "    plt.imshow(img)\n",
    "    plt.show"
   ]
  },
  {
   "cell_type": "code",
   "execution_count": 2,
   "id": "a653e9a8",
   "metadata": {},
   "outputs": [],
   "source": [
    "def initialize_weight_matrix(neurons_num, training_data):\n",
    "    # Initialize the weight matrix with zeros\n",
    "    weight_matrix = np.zeros((neurons_num, neurons_num))\n",
    "\n",
    "    # Initialize the weight matrix using Hebbian Learning\n",
    "    for pattern in training_data:\n",
    "        pattern = pattern.reshape((-1, 1))\n",
    "        weight_matrix = weight_matrix + np.dot(pattern, pattern.T)\n",
    "\n",
    "    weight_matrix /= len(training_data)\n",
    "\n",
    "    return weight_matrix"
   ]
  },
  {
   "cell_type": "code",
   "execution_count": 3,
   "id": "8fc80d73",
   "metadata": {},
   "outputs": [],
   "source": [
    "def load_training_data(folder_path):\n",
    "    # This is an empty list which we will use to store the training patterns (PBM images as binary vectors)\n",
    "    training_data = []\n",
    "\n",
    "    # Iterating over all the files in our workpics folder\n",
    "    for pbm_file in os.listdir(folder_path):\n",
    "        if pbm_file.endswith(\".pbm\"):\n",
    "            # Check if the file extension is correct\n",
    "            file_path = os.path.join(folder_path, pbm_file)\n",
    "\n",
    "            # Opening and adding it to the training dataset list\n",
    "            with Image.open(file_path) as img:\n",
    "                img = img.resize((60, 60), Image.LANCZOS)\n",
    "                img = img.convert('L')\n",
    "\n",
    "                binary_vector = np.array(img).flatten()\n",
    "\n",
    "                # To make the image into \"light\" and \"dark\" pattern. (Threshold = 128)\n",
    "                binary_vector[binary_vector < 128] = 0\n",
    "                binary_vector[binary_vector >= 128] = 1\n",
    "\n",
    "                # Finally append the vector to the training data set.\n",
    "                training_data.append(binary_vector)\n",
    "\n",
    "    return training_data"
   ]
  },
  {
   "cell_type": "code",
   "execution_count": 4,
   "id": "b20dffe8",
   "metadata": {},
   "outputs": [],
   "source": [
    "def save_network_state_as_pbm(state, file_path, image_size):\n",
    "    binary_state = state.astype(np.uint8) * 255\n",
    "    binary_state = binary_state.reshape(image_size)\n",
    "    img = Image.fromarray(binary_state, mode='L')\n",
    "    img.save(file_path)\n",
    "    "
   ]
  },
  {
   "cell_type": "code",
   "execution_count": 5,
   "id": "ff7852b2",
   "metadata": {},
   "outputs": [],
   "source": [
    "def corrupt_initial_state(initial_state, corruption_prob):\n",
    "    corrupted_state = initial_state.copy()\n",
    "    for i in range(len(initial_state)):\n",
    "        if random.random() < corruption_prob:\n",
    "            corrupted_state[i] = 1 - corrupted_state[i]\n",
    "    return corrupted_state"
   ]
  },
  {
   "cell_type": "code",
   "execution_count": 6,
   "id": "b26823e1",
   "metadata": {},
   "outputs": [],
   "source": [
    "def sync_simulation(training_data, num_iterations, output_folder, p):\n",
    "    neurons_num = training_data[0].shape[0]\n",
    "\n",
    "    weight_matrix = initialize_weight_matrix(neurons_num, training_data)\n",
    "    initial_state = random.choice(training_data).copy()\n",
    "    \n",
    "    ##corrupt\n",
    "    initial_state = corrupt_initial_state(initial_state, p)\n",
    "    \n",
    "    # Perform Hopfield Network updates and save states midway\n",
    "    for i in range(num_iterations):\n",
    "        activations = np.dot(weight_matrix, initial_state)\n",
    "        new_state = (activations >= 0.5).astype(int)\n",
    "        \n",
    "        # Save the current state as a PBM image midway\n",
    "        if i % 1000 == 0:\n",
    "            output_path = os.path.join(output_folder, 'sync_states',f'synchronous_state_{i}.pbm')\n",
    "            save_network_state_as_pbm(initial_state, output_path, (60, 60))\n",
    "        \n",
    "        # Update the state for the next iteration\n",
    "        initial_state = new_state\n",
    "        \n",
    "\n",
    "\n",
    "    print(\"Synchronous Hopfield Network updates completed.\")\n"
   ]
  },
  {
   "cell_type": "code",
   "execution_count": 7,
   "id": "e373b98c",
   "metadata": {},
   "outputs": [],
   "source": [
    "def async_simulation(training_data, num_iterations, output_folder, p):\n",
    "    neurons_num = training_data[0].shape[0]  #3600\n",
    "\n",
    "    weight_matrix = initialize_weight_matrix(neurons_num, training_data)\n",
    "    initial_state = random.choice(training_data).copy()\n",
    "    \n",
    "    ##corrupt\n",
    "    initial_state = corrupt_initial_state(initial_state, p)\n",
    "    \n",
    "    for i in range(num_iterations):\n",
    "        neuron_index = random.randint(0, neurons_num - 1)\n",
    "        activation = np.dot(weight_matrix[neuron_index, :], initial_state)\n",
    "        new_state = 1 if activation >= 0.5 else 0\n",
    "        \n",
    "        if i % 1000 == 0:\n",
    "            output_path = os.path.join(output_folder, 'async_states',f'_state_{i}.pbm')\n",
    "            save_network_state_as_pbm(initial_state, output_path, (60, 60))\n",
    "        \n",
    "        initial_state[neuron_index] = new_state\n",
    "        \n",
    "\n",
    "    print(\"Hopfield Network updates completed ASYNCRONOUSLY.\")"
   ]
  },
  {
   "cell_type": "code",
   "execution_count": 8,
   "id": "592f2eaa",
   "metadata": {},
   "outputs": [],
   "source": [
    "# Path to the PBM pictures\n",
    "folderPath = \"workpics\"\n",
    "\n",
    "# Number of iterations for updating the network\n",
    "numIterations = 100000\n",
    "\n",
    "#Corruption Prob\n",
    "p = 0.3\n",
    "\n",
    "# Create an output folder for saving the states\n",
    "outputFolder = \"network_states\"\n",
    "os.makedirs(outputFolder, exist_ok=True)\n",
    "os.makedirs(os.path.join(outputFolder, 'async_states'), exist_ok=True)\n",
    "os.makedirs(os.path.join(outputFolder, 'sync_states'), exist_ok=True)"
   ]
  },
  {
   "cell_type": "code",
   "execution_count": 9,
   "id": "ec073242",
   "metadata": {},
   "outputs": [],
   "source": [
    "trainingData = load_training_data(folderPath)"
   ]
  },
  {
   "cell_type": "code",
   "execution_count": null,
   "id": "2892e638",
   "metadata": {},
   "outputs": [],
   "source": [
    "sync_simulation(trainingData, numIterations, outputFolder, p)"
   ]
  },
  {
   "cell_type": "code",
   "execution_count": null,
   "id": "94c61633",
   "metadata": {},
   "outputs": [],
   "source": [
    "# numIterations: \n",
    "async_simulation(trainingData, numIterations, outputFolder, p)"
   ]
  },
  {
   "cell_type": "code",
   "execution_count": null,
   "id": "bb865bfd",
   "metadata": {},
   "outputs": [],
   "source": []
  },
  {
   "cell_type": "code",
   "execution_count": null,
   "id": "66883c5d",
   "metadata": {},
   "outputs": [],
   "source": []
  },
  {
   "cell_type": "code",
   "execution_count": null,
   "id": "bd8f2924",
   "metadata": {},
   "outputs": [],
   "source": []
  }
 ],
 "metadata": {
  "kernelspec": {
   "display_name": "Python 3 (ipykernel)",
   "language": "python",
   "name": "python3"
  },
  "language_info": {
   "codemirror_mode": {
    "name": "ipython",
    "version": 3
   },
   "file_extension": ".py",
   "mimetype": "text/x-python",
   "name": "python",
   "nbconvert_exporter": "python",
   "pygments_lexer": "ipython3",
   "version": "3.11.4"
  }
 },
 "nbformat": 4,
 "nbformat_minor": 5
}
