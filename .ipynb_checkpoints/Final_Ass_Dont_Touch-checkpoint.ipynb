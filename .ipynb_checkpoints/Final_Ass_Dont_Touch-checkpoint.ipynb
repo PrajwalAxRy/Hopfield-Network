{
 "cells": [
  {
   "cell_type": "code",
   "execution_count": 1,
   "id": "39825316",
   "metadata": {},
   "outputs": [],
   "source": [
    "import numpy as np\n",
    "from PIL import Image\n",
    "import os\n",
    "import random\n",
    "import matplotlib.pyplot as plt"
   ]
  },
  {
   "cell_type": "code",
   "execution_count": 21,
   "id": "0eeb6ec8",
   "metadata": {},
   "outputs": [],
   "source": [
    "def crop_memory(memory, image_size, box_size, fill_value=0):\n",
    "    memory = memory.reshape(image_size)\n",
    "    cropped_memory = np.full(image_size, fill_value)\n",
    "    start_index = (image_size[0] - box_size[0]) // 2\n",
    "    end_index = start_index + box_size[0]\n",
    "    cropped_memory[start_index:end_index, start_index:end_index] = \\\n",
    "        memory[start_index:end_index, start_index:end_index]\n",
    "    return cropped_memory.flatten()"
   ]
  },
  {
   "cell_type": "code",
   "execution_count": 4,
   "id": "a653e9a8",
   "metadata": {},
   "outputs": [],
   "source": [
    "def initialize_weight_matrix(neurons_num, training_data):\n",
    "    # Initialize the weight matrix with zeros\n",
    "    weight_matrix = np.zeros((neurons_num, neurons_num))\n",
    "\n",
    "    # Initialize the weight matrix using Hebbian Learning\n",
    "    for pattern in training_data:\n",
    "        pattern = pattern.reshape((-1, 1))\n",
    "        weight_matrix = weight_matrix + np.dot(pattern, pattern.T)\n",
    "\n",
    "    weight_matrix /= len(training_data)\n",
    "\n",
    "    return weight_matrix"
   ]
  },
  {
   "cell_type": "code",
   "execution_count": 5,
   "id": "8fc80d73",
   "metadata": {},
   "outputs": [],
   "source": [
    "def load_training_data(folder_path):\n",
    "    # This is an empty list which we will use to store the training patterns (PBM images as binary vectors)\n",
    "    training_data = []\n",
    "\n",
    "    # Iterating over all the files in our workpics folder\n",
    "    for pbm_file in os.listdir(folder_path):\n",
    "        if pbm_file.endswith(\".pbm\"):\n",
    "            # Check if the file extension is correct\n",
    "            file_path = os.path.join(folder_path, pbm_file)\n",
    "\n",
    "            # Opening and adding it to the training dataset list\n",
    "            with Image.open(file_path) as img:\n",
    "                img = img.resize((60, 60), Image.LANCZOS)\n",
    "                img = img.convert('L')\n",
    "\n",
    "                binary_vector = np.array(img).flatten()\n",
    "\n",
    "                # To make the image into \"light\" and \"dark\" pattern. (Threshold = 128)\n",
    "                binary_vector[binary_vector < 128] = 0\n",
    "                binary_vector[binary_vector >= 128] = 1\n",
    "\n",
    "                # Finally append the vector to the training data set.\n",
    "                training_data.append(binary_vector)\n",
    "\n",
    "    return training_data"
   ]
  },
  {
   "cell_type": "code",
   "execution_count": 6,
   "id": "b20dffe8",
   "metadata": {},
   "outputs": [],
   "source": [
    "def save_network_state_as_pbm(state, file_path, image_size):\n",
    "    binary_state = state.astype(np.uint8) * 255\n",
    "    binary_state = binary_state.reshape(image_size)\n",
    "    img = Image.fromarray(binary_state, mode='L')\n",
    "    img.save(file_path)"
   ]
  },
  {
   "cell_type": "code",
   "execution_count": 7,
   "id": "c8018fd7",
   "metadata": {},
   "outputs": [],
   "source": [
    "def corrupt_initial_state(initial_state, corruption_prob):\n",
    "    corrupted_state = initial_state.copy()\n",
    "    for i in range(len(initial_state)):\n",
    "        if random.random() < corruption_prob:\n",
    "            corrupted_state[i] = 1 - corrupted_state[i]\n",
    "    return corrupted_state"
   ]
  },
  {
   "cell_type": "code",
   "execution_count": 78,
   "id": "b26823e1",
   "metadata": {},
   "outputs": [],
   "source": [
    "def sync_simulation(training_data, num_iterations, output_folder, p, save_interval=1):\n",
    "    neurons_num = training_data[0].shape[0]\n",
    "\n",
    "    # Initialize weight matrix (you need to implement this)\n",
    "    weight_matrix = initialize_weight_matrix(neurons_num, training_data)\n",
    "    \n",
    "    # Choose a random initial state\n",
    "    initial_state = random.choice(training_data).copy()\n",
    "    \n",
    "    # Corrupt the initial state with probability p (you need to implement this)\n",
    "    initial_state = corrupt_initial_state(initial_state, p)\n",
    "    \n",
    "    # Perform Hopfield Network updates and save states midway\n",
    "    for i in range(num_iterations):\n",
    "        activations = np.dot(weight_matrix, initial_state)\n",
    "        \n",
    "        # Apply your threshold function here\n",
    "        new_state = (activations >= 0.5).astype(int)\n",
    "        \n",
    "        # Save the current state as a PBM image at specified intervals\n",
    "        if i % 1 == 0:\n",
    "            output_path = os.path.join(output_folder, 'sync_states', f'state_{i}.pbm')\n",
    "            save_network_state_as_pbm(initial_state, output_path, (60, 60))\n",
    "        \n",
    "        # Update the state for the next iteration\n",
    "        initial_state = new_state\n",
    "\n",
    "    print(\"Synchronous Hopfield Network updates completed.\")"
   ]
  },
  {
   "cell_type": "code",
   "execution_count": 97,
   "id": "5c65afab",
   "metadata": {},
   "outputs": [],
   "source": [
    "def synchronous_simulation_cropped(training_data, num_iterations, output_folder):\n",
    "    neurons_num = training_data[0].shape[0]\n",
    "\n",
    "    # Initialize the weight matrix\n",
    "    weight_matrix = initialize_weight_matrix(neurons_num, training_data)\n",
    "\n",
    "    # Create an initial state for the Hopfield Network\n",
    "    initial_state = random.choice(training_data).copy()\n",
    "    \n",
    "    initial_state = crop_memory(initial_state, (60, 60), (40, 40), fill_value=0)\n",
    "\n",
    "    # Perform synchronous Hopfield Network updates with cropping and save states midway\n",
    "    for i in range(num_iterations):\n",
    "        neuron_index = random.randint(0, neurons_num - 1)\n",
    "        activation = np.dot(weight_matrix[neuron_index, :], initial_state)\n",
    "        new_state = 1 if activation >= 0.5 else 0\n",
    "\n",
    "        # Update the selected neuron's state\n",
    "        initial_state[neuron_index] = new_state\n",
    "\n",
    "        # Save the current state as a PBM image midway\n",
    "        if i % 500 == 0:\n",
    "            output_path = os.path.join(output_folder, 'sync_cropped', f'state_{i}.pbm')\n",
    "            save_network_state_as_pbm(initial_state, output_path, (60, 60))\n",
    "\n",
    "    print(\"Synchronous Hopfield Network updates with cropping completed.\")"
   ]
  },
  {
   "cell_type": "code",
   "execution_count": 26,
   "id": "e373b98c",
   "metadata": {},
   "outputs": [],
   "source": [
    "def async_simulation(training_data, num_iterations, output_folder, p):\n",
    "    neurons_num = training_data[0].shape[0]  #3600\n",
    "\n",
    "    weight_matrix = initialize_weight_matrix(neurons_num, training_data)\n",
    "    initial_state = random.choice(training_data).copy()\n",
    "    \n",
    "    ##corrupt\n",
    "    initial_state = corrupt_initial_state(initial_state, p)\n",
    "    \n",
    "    for i in range(num_iterations):\n",
    "        neuron_index = random.randint(0, neurons_num - 1)\n",
    "        activation = np.dot(weight_matrix[neuron_index, :], initial_state)\n",
    "        new_state = 1 if activation >= 0.5 else 0\n",
    "        \n",
    "        if i % 500 == 0:\n",
    "            output_path = os.path.join(output_folder, 'async_states',f'state_{i}.pbm')\n",
    "            save_network_state_as_pbm(initial_state, output_path, (60, 60))\n",
    "        \n",
    "        initial_state[neuron_index] = new_state\n",
    "        \n",
    "\n",
    "    print(\"Hopfield Network updates completed ASYNCRONOUSLY.\")"
   ]
  },
  {
   "cell_type": "code",
   "execution_count": 58,
   "id": "9dfc4686",
   "metadata": {},
   "outputs": [],
   "source": [
    "def asynchronous_simulation_cropped(training_data, num_iterations, output_folder):\n",
    "    neurons_num = training_data[0].shape[0]\n",
    "\n",
    "    # Initialize the weight matrix\n",
    "    weight_matrix = initialize_weight_matrix(neurons_num, training_data)\n",
    "    \n",
    "    initial_state = random.choice(training_data).copy()\n",
    "    \n",
    "    # Create an initial state for the Hopfield Network\n",
    "    initial_state = crop_memory(initial_state, (60, 60), (40, 40), fill_value=0)\n",
    "\n",
    "    # Perform asynchronous Hopfield Network updates with cropping and save states midway\n",
    "    for i in range(num_iterations):\n",
    "        neuron_index = random.randint(0, neurons_num - 1)\n",
    "        activation = np.dot(weight_matrix[neuron_index, :], initial_state)\n",
    "        new_state = 1 if activation >= 0.5 else 0\n",
    "        \n",
    "        # Save the current state as a PBM image midway\n",
    "        if i % 500 == 0:\n",
    "            output_path = os.path.join(output_folder, \"async_cropped\",f'state_{i}.pbm')\n",
    "            save_network_state_as_pbm(initial_state, output_path, (60, 60))\n",
    "        \n",
    "        # Update the selected neuron's state asynchronously\n",
    "        initial_state[neuron_index] = new_state\n",
    "\n",
    "    print(\"Asynchronous Hopfield Network updates with cropping completed.\")"
   ]
  },
  {
   "cell_type": "code",
   "execution_count": 98,
   "id": "592f2eaa",
   "metadata": {},
   "outputs": [],
   "source": [
    "# Path to the PBM pictures\n",
    "folderPath = \"workpics\"\n",
    "\n",
    "# Number of iterations for updating the network\n",
    "numIterations = 15000\n",
    "\n",
    "#Corruption Prob\n",
    "p = 0.3\n",
    "\n",
    "# Create an output folder for saving the states\n",
    "outputFolder = \"network_states\"\n",
    "os.makedirs(outputFolder, exist_ok=True)\n",
    "os.makedirs(os.path.join(outputFolder, 'async_states'), exist_ok=True)\n",
    "os.makedirs(os.path.join(outputFolder, 'sync_states'), exist_ok=True)\n",
    "os.makedirs(os.path.join(outputFolder, 'sync_cropped'), exist_ok=True)\n",
    "os.makedirs(os.path.join(outputFolder, 'async_cropped'), exist_ok=True)"
   ]
  },
  {
   "cell_type": "code",
   "execution_count": 18,
   "id": "ec073242",
   "metadata": {},
   "outputs": [],
   "source": [
    "trainingData = load_training_data(folderPath)"
   ]
  },
  {
   "cell_type": "code",
   "execution_count": 79,
   "id": "2892e638",
   "metadata": {},
   "outputs": [
    {
     "name": "stdout",
     "output_type": "stream",
     "text": [
      "Synchronous Hopfield Network updates completed.\n"
     ]
    }
   ],
   "source": [
    "sync_simulation(trainingData, numIterations, outputFolder, p)"
   ]
  },
  {
   "cell_type": "code",
   "execution_count": 99,
   "id": "aedffa64",
   "metadata": {},
   "outputs": [
    {
     "name": "stdout",
     "output_type": "stream",
     "text": [
      "Synchronous Hopfield Network updates with cropping completed.\n"
     ]
    }
   ],
   "source": [
    "synchronous_simulation_cropped(trainingData, numIterations, outputFolder)"
   ]
  },
  {
   "cell_type": "code",
   "execution_count": 27,
   "id": "94c61633",
   "metadata": {},
   "outputs": [
    {
     "name": "stdout",
     "output_type": "stream",
     "text": [
      "Hopfield Network updates completed ASYNCRONOUSLY.\n"
     ]
    }
   ],
   "source": [
    "async_simulation(trainingData, numIterations, outputFolder, p)"
   ]
  },
  {
   "cell_type": "code",
   "execution_count": 85,
   "id": "e7095183",
   "metadata": {},
   "outputs": [
    {
     "name": "stdout",
     "output_type": "stream",
     "text": [
      "Asynchronous Hopfield Network updates with cropping completed.\n"
     ]
    }
   ],
   "source": [
    "asynchronous_simulation_cropped(trainingData, numIterations, outputFolder)"
   ]
  },
  {
   "cell_type": "code",
   "execution_count": 100,
   "id": "355cee66",
   "metadata": {},
   "outputs": [],
   "source": [
    "def display_image(i):\n",
    "    path = f\"./network_states/sync_cropped/state_{i}.pbm\"\n",
    "    # Open the image file\n",
    "    img = Image.open(path)\n",
    "\n",
    "    # Display the image\n",
    "    plt.imshow(img)\n",
    "    plt.show()"
   ]
  },
  {
   "cell_type": "code",
   "execution_count": 101,
   "id": "7a604296",
   "metadata": {},
   "outputs": [
    {
     "data": {
      "image/png": "[encoded data removed]",
      "text/plain": [
       "<Figure size 640x480 with 1 Axes>"
      ]
     },
     "metadata": {},
     "output_type": "display_data"
    }
   ],
   "source": [
    "display_image(0)"
   ]
  },
  {
   "cell_type": "code",
   "execution_count": 102,
   "id": "974769d5",
   "metadata": {},
   "outputs": [
    {
     "data": {
      "image/png": "[encoded data removed]",
      "text/plain": [
       "<Figure size 640x480 with 1 Axes>"
      ]
     },
     "metadata": {},
     "output_type": "display_data"
    }
   ],
   "source": [
    "display_image(500)"
   ]
  },
  {
   "cell_type": "code",
   "execution_count": 103,
   "id": "f5b51d53",
   "metadata": {},
   "outputs": [
    {
     "data": {
      "image/png": "[encoded data removed]",
      "text/plain": [
       "<Figure size 640x480 with 1 Axes>"
      ]
     },
     "metadata": {},
     "output_type": "display_data"
    }
   ],
   "source": [
    "display_image(1000)"
   ]
  },
  {
   "cell_type": "code",
   "execution_count": 104,
   "id": "70e0ce7a",
   "metadata": {},
   "outputs": [
    {
     "data": {
      "image/png": "[encoded data removed]",
      "text/plain": [
       "<Figure size 640x480 with 1 Axes>"
      ]
     },
     "metadata": {},
     "output_type": "display_data"
    }
   ],
   "source": [
    "display_image(2000)"
   ]
  },
  {
   "cell_type": "code",
   "execution_count": 105,
   "id": "37d55b60",
   "metadata": {},
   "outputs": [
    {
     "data": {
      "image/png": "[encoded data removed]",
      "text/plain": [
       "<Figure size 640x480 with 1 Axes>"
      ]
     },
     "metadata": {},
     "output_type": "display_data"
    }
   ],
   "source": [
    "display_image(4000)"
   ]
  },
  {
   "cell_type": "code",
   "execution_count": 106,
   "id": "9aa473aa",
   "metadata": {},
   "outputs": [
    {
     "data": {
      "image/png": "[encoded data removed]",
      "text/plain": [
       "<Figure size 640x480 with 1 Axes>"
      ]
     },
     "metadata": {},
     "output_type": "display_data"
    }
   ],
   "source": [
    "display_image(8000)"
   ]
  },
  {
   "cell_type": "code",
   "execution_count": 107,
   "id": "d1ad0122",
   "metadata": {},
   "outputs": [
    {
     "data": {
      "image/png": "[encoded data removed]",
      "text/plain": [
       "<Figure size 640x480 with 1 Axes>"
      ]
     },
     "metadata": {},
     "output_type": "display_data"
    }
   ],
   "source": [
    "display_image(12000)"
   ]
  },
  {
   "cell_type": "code",
   "execution_count": 108,
   "id": "fbb5ed13",
   "metadata": {},
   "outputs": [
    {
     "data": {
      "image/png": "[encoded data removed]",
      "text/plain": [
       "<Figure size 640x480 with 1 Axes>"
      ]
     },
     "metadata": {},
     "output_type": "display_data"
    }
   ],
   "source": [
    "display_image(14500)"
   ]
  }
 ],
 "metadata": {
  "kernelspec": {
   "display_name": "Python 3 (ipykernel)",
   "language": "python",
   "name": "python3"
  },
  "language_info": {
   "codemirror_mode": {
    "name": "ipython",
    "version": 3
   },
   "file_extension": ".py",
   "mimetype": "text/x-python",
   "name": "python",
   "nbconvert_exporter": "python",
   "pygments_lexer": "ipython3",
   "version": "3.11.4"
  }
 },
 "nbformat": 4,
 "nbformat_minor": 5
}
